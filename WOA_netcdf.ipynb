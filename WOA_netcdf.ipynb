{
 "cells": [
  {
   "cell_type": "markdown",
   "metadata": {},
   "source": [
    "## Create EMUs from World Ocean Atlas Data"
   ]
  },
  {
   "cell_type": "markdown",
   "metadata": {},
   "source": [
    "### Download source files from NOAA:"
   ]
  },
  {
   "cell_type": "code",
   "execution_count": 1,
   "metadata": {},
   "outputs": [],
   "source": [
    "NOAA_WOA23_Site = \"https://www.ncei.noaa.gov/access/world-ocean-atlas-2023/\""
   ]
  },
  {
   "cell_type": "code",
   "execution_count": 2,
   "metadata": {},
   "outputs": [],
   "source": [
    "woa_temperature = r\"E:\\analysis\\WOA\\woa23_decav_t00_04.nc\""
   ]
  },
  {
   "cell_type": "code",
   "execution_count": 3,
   "metadata": {},
   "outputs": [
    {
     "name": "stdout",
     "output_type": "stream",
     "text": [
      "dict_keys(['crs', 'lat', 'lat_bnds', 'lon', 'lon_bnds', 'depth', 'depth_bnds', 'time', 'climatology_bounds', 't_an', 't_mn', 't_dd', 't_sd', 't_se', 't_oa', 't_gp', 't_sdo', 't_sea'])\n",
      "Variable: crs\n",
      "Dimensions: ()\n",
      "Shape: ()\n",
      "Attributes: ['grid_mapping_name', 'epsg_code', 'longitude_of_prime_meridian', 'semi_major_axis', 'inverse_flattening']\n",
      "\n",
      "Variable: lat\n",
      "Dimensions: ('lat',)\n",
      "Shape: (720,)\n",
      "Attributes: ['standard_name', 'long_name', 'units', 'axis', 'bounds']\n",
      "\n",
      "Variable: lat_bnds\n",
      "Dimensions: ('lat', 'nbounds')\n",
      "Shape: (720, 2)\n",
      "Attributes: ['comment']\n",
      "\n",
      "Variable: lon\n",
      "Dimensions: ('lon',)\n",
      "Shape: (1440,)\n",
      "Attributes: ['standard_name', 'long_name', 'units', 'axis', 'bounds']\n",
      "\n",
      "Variable: lon_bnds\n",
      "Dimensions: ('lon', 'nbounds')\n",
      "Shape: (1440, 2)\n",
      "Attributes: ['comment']\n",
      "\n",
      "Variable: depth\n",
      "Dimensions: ('depth',)\n",
      "Shape: (102,)\n",
      "Attributes: ['standard_name', 'bounds', 'positive', 'units', 'axis']\n",
      "\n",
      "Variable: depth_bnds\n",
      "Dimensions: ('depth', 'nbounds')\n",
      "Shape: (102, 2)\n",
      "Attributes: ['comment']\n",
      "\n",
      "Variable: time\n",
      "Dimensions: ('time',)\n",
      "Shape: (1,)\n",
      "Attributes: ['standard_name', 'long_name', 'units', 'axis', 'climatology']\n",
      "\n",
      "Variable: climatology_bounds\n",
      "Dimensions: ('time', 'nbounds')\n",
      "Shape: (1, 2)\n",
      "Attributes: ['comment']\n",
      "\n",
      "Variable: t_an\n",
      "Dimensions: ('time', 'depth', 'lat', 'lon')\n",
      "Shape: (1, 102, 720, 1440)\n",
      "Attributes: ['standard_name', 'long_name', 'coordinates', 'cell_methods', 'grid_mapping', 'units', '_FillValue']\n",
      "\n",
      "Variable: t_mn\n",
      "Dimensions: ('time', 'depth', 'lat', 'lon')\n",
      "Shape: (1, 102, 720, 1440)\n",
      "Attributes: ['standard_name', 'long_name', 'coordinates', 'cell_methods', 'grid_mapping', 'units', '_FillValue']\n",
      "\n",
      "Variable: t_dd\n",
      "Dimensions: ('time', 'depth', 'lat', 'lon')\n",
      "Shape: (1, 102, 720, 1440)\n",
      "Attributes: ['standard_name', 'long_name', 'coordinates', 'cell_methods', 'grid_mapping', 'units', '_FillValue']\n",
      "\n",
      "Variable: t_sd\n",
      "Dimensions: ('time', 'depth', 'lat', 'lon')\n",
      "Shape: (1, 102, 720, 1440)\n",
      "Attributes: ['long_name', 'coordinates', 'cell_methods', 'grid_mapping', 'units', '_FillValue']\n",
      "\n",
      "Variable: t_se\n",
      "Dimensions: ('time', 'depth', 'lat', 'lon')\n",
      "Shape: (1, 102, 720, 1440)\n",
      "Attributes: ['standard_name', 'long_name', 'coordinates', 'cell_methods', 'grid_mapping', 'units', '_FillValue']\n",
      "\n",
      "Variable: t_oa\n",
      "Dimensions: ('time', 'depth', 'lat', 'lon')\n",
      "Shape: (1, 102, 720, 1440)\n",
      "Attributes: ['standard_name', 'long_name', 'coordinates', 'cell_methods', 'grid_mapping', 'units', '_FillValue']\n",
      "\n",
      "Variable: t_gp\n",
      "Dimensions: ('time', 'depth', 'lat', 'lon')\n",
      "Shape: (1, 102, 720, 1440)\n",
      "Attributes: ['long_name', 'coordinates', 'cell_methods', 'grid_mapping', 'units', '_FillValue']\n",
      "\n",
      "Variable: t_sdo\n",
      "Dimensions: ('time', 'depth', 'lat', 'lon')\n",
      "Shape: (1, 102, 720, 1440)\n",
      "Attributes: ['standard_name', 'long_name', 'coordinates', 'cell_methods', 'grid_mapping', 'units', '_FillValue']\n",
      "\n",
      "Variable: t_sea\n",
      "Dimensions: ('time', 'depth', 'lat', 'lon')\n",
      "Shape: (1, 102, 720, 1440)\n",
      "Attributes: ['standard_name', 'long_name', 'coordinates', 'cell_methods', 'grid_mapping', 'units', '_FillValue']\n",
      "\n"
     ]
    }
   ],
   "source": [
    "from netCDF4 import Dataset\n",
    "\n",
    "# Open the netCDF file\n",
    "dataset = Dataset(woa_temperature, 'r')\n",
    "\n",
    "# Print the variables in the dataset\n",
    "print(dataset.variables.keys())\n",
    "\n",
    "# Describe each variable\n",
    "for var_name in dataset.variables.keys():\n",
    "    var = dataset.variables[var_name]\n",
    "    print(f\"Variable: {var_name}\")\n",
    "    print(f\"Dimensions: {var.dimensions}\")\n",
    "    print(f\"Shape: {var.shape}\")\n",
    "    print(f\"Attributes: {var.ncattrs()}\")\n",
    "    print()"
   ]
  },
  {
   "cell_type": "code",
   "execution_count": 4,
   "metadata": {},
   "outputs": [
    {
     "name": "stdout",
     "output_type": "stream",
     "text": [
      "[0.0, 5.0, 10.0, 15.0, 20.0, 25.0, 30.0, 35.0, 40.0, 45.0, 50.0, 55.0, 60.0, 65.0, 70.0, 75.0, 80.0, 85.0, 90.0, 95.0, 100.0, 125.0, 150.0, 175.0, 200.0, 225.0, 250.0, 275.0, 300.0, 325.0, 350.0, 375.0, 400.0, 425.0, 450.0, 475.0, 500.0, 550.0, 600.0, 650.0, 700.0, 750.0, 800.0, 850.0, 900.0, 950.0, 1000.0, 1050.0, 1100.0, 1150.0, 1200.0, 1250.0, 1300.0, 1350.0, 1400.0, 1450.0, 1500.0, 1550.0, 1600.0, 1650.0, 1700.0, 1750.0, 1800.0, 1850.0, 1900.0, 1950.0, 2000.0, 2100.0, 2200.0, 2300.0, 2400.0, 2500.0, 2600.0, 2700.0, 2800.0, 2900.0, 3000.0, 3100.0, 3200.0, 3300.0, 3400.0, 3500.0, 3600.0, 3700.0, 3800.0, 3900.0, 4000.0, 4100.0, 4200.0, 4300.0, 4400.0, 4500.0, 4600.0, 4700.0, 4800.0, 4900.0, 5000.0, 5100.0, 5200.0, 5300.0, 5400.0, 5500.0]\n"
     ]
    }
   ],
   "source": [
    "depth_dimensions = dataset.variables['depth'][:].tolist()\n",
    "print(depth_dimensions)"
   ]
  },
  {
   "cell_type": "code",
   "execution_count": 5,
   "metadata": {},
   "outputs": [
    {
     "name": "stdout",
     "output_type": "stream",
     "text": [
      "[4614.0]\n"
     ]
    }
   ],
   "source": [
    "time_dimensions = dataset.variables['time'][:].tolist()\n",
    "print(time_dimensions)"
   ]
  },
  {
   "cell_type": "code",
   "execution_count": 6,
   "metadata": {},
   "outputs": [
    {
     "name": "stdout",
     "output_type": "stream",
     "text": [
      "{'standard_name': 'time', 'long_name': 'time', 'units': 'months since 1955-01-01 00:00:00', 'axis': 'T', 'climatology': 'climatology_bounds'}\n"
     ]
    }
   ],
   "source": [
    "time_var = dataset.variables['time']\n",
    "time_attributes = {attr: time_var.getncattr(attr) for attr in time_var.ncattrs()}\n",
    "print(time_attributes)"
   ]
  },
  {
   "cell_type": "code",
   "execution_count": 10,
   "metadata": {},
   "outputs": [
    {
     "name": "stdout",
     "output_type": "stream",
     "text": [
      "          Latitude  Longitude   Depth  Temperature_Anomaly\n",
      "0          -78.375   -163.875     0.0             -1.60811\n",
      "1          -78.375   -163.625     0.0             -1.60671\n",
      "2          -78.125   -168.875     0.0             -1.50571\n",
      "3          -78.125   -168.375     0.0             -1.51451\n",
      "4          -78.125   -167.875     0.0             -1.53871\n",
      "...            ...        ...     ...                  ...\n",
      "52487228    55.125    164.625  5500.0              1.60161\n",
      "52487229    55.125    164.875  5500.0              1.59971\n",
      "52487230    55.375    164.125  5500.0              1.60301\n",
      "52487231    55.375    164.375  5500.0              1.60231\n",
      "52487232    79.125      2.875  5500.0              1.01459\n",
      "\n",
      "[52487233 rows x 4 columns]\n"
     ]
    }
   ],
   "source": [
    "import numpy as np\n",
    "\n",
    "# Extract the necessary variables\n",
    "latitudes = dataset.variables['lat'][:]\n",
    "longitudes = dataset.variables['lon'][:]\n",
    "depths = dataset.variables['depth'][:]\n",
    "temperatures = dataset.variables['t_an'][:]\n",
    "\n",
    "# Create a list to store the data\n",
    "data = []\n",
    "\n",
    "# Iterate over each depth level\n",
    "for depth_index, depth in enumerate(depths):\n",
    "            for lat_index, lat in enumerate(latitudes):\n",
    "                for lon_index, lon in enumerate(longitudes):\n",
    "                    t_an_value = temperatures[0, depth_index, lat_index, lon_index]\n",
    "                    if not t_an_value is np.ma.masked:\n",
    "                        data.append([lat, lon, depth, t_an_value])\n",
    "\n",
    "# Create a dataframe\n",
    "df = pd.DataFrame(data, columns=['Latitude', 'Longitude', 'Depth', 'Temperature_Anomaly'])\n",
    "print(df)"
   ]
  }
 ],
 "metadata": {
  "kernelspec": {
   "display_name": "Python 3",
   "language": "python",
   "name": "python3"
  },
  "language_info": {
   "codemirror_mode": {
    "name": "ipython",
    "version": 3
   },
   "file_extension": ".py",
   "mimetype": "text/x-python",
   "name": "python",
   "nbconvert_exporter": "python",
   "pygments_lexer": "ipython3",
   "version": "3.11.8"
  }
 },
 "nbformat": 4,
 "nbformat_minor": 2
}
